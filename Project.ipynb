{
 "cells": [
  {
   "cell_type": "code",
   "execution_count": null,
   "metadata": {},
   "outputs": [],
   "source": [
    "import pandas as pd\n",
    "import numpy as np\n",
    "from sqlalchemy import create_engine"
   ]
  },
  {
   "cell_type": "code",
   "execution_count": null,
   "metadata": {},
   "outputs": [],
   "source": [
    "# Resaved the metacritic_movies.csv to get rid of commas in the numbers.\n",
    "# Created schema for movies_t. Imported data into table just to make sure it worked, then deleted the table, and recreated\n",
    "# to be an empty table."
   ]
  },
  {
   "cell_type": "code",
   "execution_count": null,
   "metadata": {
    "scrolled": true
   },
   "outputs": [],
   "source": [
    "# load the movies data.\n",
    "csv_file = \"Metacritic Reviews/metacritic_movies.csv\"\n",
    "raw_movies_df = pd.read_csv(csv_file)\n",
    "raw_movies_df.head()"
   ]
  },
  {
   "cell_type": "code",
   "execution_count": null,
   "metadata": {},
   "outputs": [],
   "source": [
    "# Reviews data cleaning\n",
    "# Previewed in Excel.\n",
    "# Removed lines of invalid data that appears to have wrapped incorrectly.\n",
    "\n",
    "# Need to fix text for the apostrophes that have been convered to â€™\n",
    "# Did Find/Replace using text editor.\n",
    "# \n",
    "# created file Cleaned_metacritic_reviews.csv"
   ]
  },
  {
   "cell_type": "code",
   "execution_count": null,
   "metadata": {
    "scrolled": true
   },
   "outputs": [],
   "source": [
    "# Load the reviews data.\n",
    "csv_file = \"Metacritic Reviews/Cleaned_metacritic_reviews.csv\"\n",
    "raw_reviews_df = pd.read_csv(csv_file, dtype={3:'str',4:'str'})\n",
    "raw_reviews_df.head()"
   ]
  },
  {
   "cell_type": "code",
   "execution_count": null,
   "metadata": {},
   "outputs": [],
   "source": [
    "## Cleanup complete"
   ]
  },
  {
   "cell_type": "code",
   "execution_count": null,
   "metadata": {},
   "outputs": [],
   "source": [
    "## Addy's section\n",
    "\n",
    "# Need to create table of movie posters urls from TheMovieDB.org\n",
    "#\n",
    "# Choice 1: Lookup table\n",
    "#    Movie name, poster url\n",
    "\n",
    "# Choice 2: Append a new column for poster url to movies_df"
   ]
  },
  {
   "cell_type": "code",
   "execution_count": null,
   "metadata": {},
   "outputs": [],
   "source": [
    "## write out all df's to postgresql"
   ]
  },
  {
   "cell_type": "code",
   "execution_count": null,
   "metadata": {},
   "outputs": [],
   "source": [
    "## test a movie lookup to search for a movie name, which should come back with:\n",
    "#  movie name, all reviews for the movie, and movie poster url."
   ]
  },
  {
   "cell_type": "code",
   "execution_count": null,
   "metadata": {},
   "outputs": [],
   "source": [
    "import requests"
   ]
  },
  {
   "cell_type": "code",
   "execution_count": null,
   "metadata": {},
   "outputs": [],
   "source": [
    "#url = 'https://api.themoviedb.org/3/movie/550?api_key=3d48b9204ca053957eb4375bb97a83c8'"
   ]
  },
  {
   "cell_type": "code",
   "execution_count": null,
   "metadata": {},
   "outputs": [],
   "source": [
    "#keep\n",
    "config_path = 'http://api.themoviedb.org/3/configuration?api_key={key}'\n",
    "KEY = '3d48b9204ca053957eb4375bb97a83c8'\n",
    "url = config_path.format(key=KEY)\n",
    "r = requests.get(url)\n",
    "config = r.json()\n",
    "# config"
   ]
  },
  {
   "cell_type": "code",
   "execution_count": null,
   "metadata": {},
   "outputs": [],
   "source": [
    "#keep\n",
    "base_url = config['images']['base_url']\n",
    "base_url"
   ]
  },
  {
   "cell_type": "code",
   "execution_count": null,
   "metadata": {},
   "outputs": [],
   "source": [
    "# i queryed one of the movie using the title\n",
    "# the url query returns an id "
   ]
  },
  {
   "cell_type": "code",
   "execution_count": null,
   "metadata": {},
   "outputs": [],
   "source": [
    "#keep \n",
    "temp = 'http://api.themoviedb.org/3/search/movie?query=Gavaga&api_key=3d48b9204ca053957eb4375bb97a83c8'\n",
    "r = requests.get(temp)\n",
    "response = r.json()\n",
    "response['results'][0]['poster_path']"
   ]
  },
  {
   "cell_type": "code",
   "execution_count": null,
   "metadata": {},
   "outputs": [],
   "source": [
    "# keep\n",
    "base_url = 'http://image.tmdb.org/t/p/'\n",
    "size = 'w500'\n",
    "rel_path = '/mgwZvl0DwS1GIborSGlpTGomrJD.jpg'"
   ]
  },
  {
   "cell_type": "code",
   "execution_count": null,
   "metadata": {},
   "outputs": [],
   "source": [
    "# keep\n",
    "url = base_url + size + rel_path\n",
    "url"
   ]
  },
  {
   "cell_type": "code",
   "execution_count": null,
   "metadata": {},
   "outputs": [],
   "source": [
    "# save url to new lookup dataframe that has 2 columns: movie title, url\n"
   ]
  },
  {
   "cell_type": "code",
   "execution_count": null,
   "metadata": {},
   "outputs": [],
   "source": [
    "base_url = 'http://image.tmdb.org/t/p/'\n",
    "size = 'w500'\n",
    "\n",
    "url_list = []\n",
    "for title in raw_movies_df.movie_title:\n",
    "    #print(title)\n",
    "    temp = 'http://api.themoviedb.org/3/search/movie?query=\"' + title + '\"&api_key=3d48b9204ca053957eb4375bb97a83c8'\n",
    "    #print(temp)\n",
    "    try:\n",
    "        r = requests.get(temp)\n",
    "        response = r.json()\n",
    "        url = base_url + size + response['results'][0]['poster_path']\n",
    "        url_list.append(url)\n",
    "        print(url_list)\n",
    "        #read json into a list\n",
    "        #movie_url.append(response_json, [url])\n",
    "    except:\n",
    "        print('movie url not found. Skipping...')\n",
    "\n",
    "print('-----------------------------')\n",
    "print('Data Retrieval Complete')\n",
    "print('-----------------------------')\n",
    "    "
   ]
  },
  {
   "cell_type": "code",
   "execution_count": null,
   "metadata": {},
   "outputs": [],
   "source": [
    "# url_df = pd.DataFrame(url_list)\n",
    "# url_df"
   ]
  },
  {
   "cell_type": "code",
   "execution_count": null,
   "metadata": {},
   "outputs": [],
   "source": [
    "# New DataFrame with selected colum(movie_title) from movies_df\n",
    "# movie_title_df = raw_movies_df[['movie_title']].copy\n",
    "# movie_title__df"
   ]
  },
  {
   "cell_type": "code",
   "execution_count": null,
   "metadata": {},
   "outputs": [],
   "source": [
    "# result = pd.concat([movie_title_df, url_df],axis= , sort=True)"
   ]
  },
  {
   "cell_type": "code",
   "execution_count": null,
   "metadata": {},
   "outputs": [],
   "source": [
    "# reference\n",
    "# for title in raw_movies_df.movie_title:\n",
    "#     #print(title)\n",
    "#     temp = 'http://api.themoviedb.org/3/search/movie?query=\"' + title + '\"&api_key=3d48b9204ca053957eb4375bb97a83c8'\n",
    "#     #print(temp)\n",
    "#     r = requests.get(temp)\n",
    "#     response = r.json()\n",
    "#     url = base_url + size + response['results'][0]['poster_path']\n",
    "#     print(url)"
   ]
  },
  {
   "cell_type": "code",
   "execution_count": null,
   "metadata": {},
   "outputs": [],
   "source": []
  }
 ],
 "metadata": {
  "kernelspec": {
   "display_name": "Python 3",
   "language": "python",
   "name": "python3"
  },
  "language_info": {
   "codemirror_mode": {
    "name": "ipython",
    "version": 3
   },
   "file_extension": ".py",
   "mimetype": "text/x-python",
   "name": "python",
   "nbconvert_exporter": "python",
   "pygments_lexer": "ipython3",
   "version": "3.7.4"
  }
 },
 "nbformat": 4,
 "nbformat_minor": 2
}
